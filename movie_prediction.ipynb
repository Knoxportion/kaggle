{
 "cells": [
  {
   "cell_type": "code",
   "execution_count": 1,
   "metadata": {},
   "outputs": [],
   "source": [
    "import numpy as np # linear algebra\n",
    "import pandas as pd # data processing, CSV file I/O (e.g. pd.read_csv)\n",
    "import matplotlib.pyplot as plt\n",
    "import seaborn as sns\n",
    "import sklearn\n",
    "import random\n",
    "import os\n",
    "\n",
    "from pyspark.sql import SparkSession \n",
    "from pyspark.ml  import Pipeline     \n",
    "from pyspark.sql import SQLContext  \n",
    "from pyspark.sql.functions import mean,col,split, col, regexp_extract, when, lit\n",
    "from pyspark.ml.feature import StringIndexer, VectorAssembler\n",
    "from pyspark.ml.evaluation import MulticlassClassificationEvaluator\n",
    "from pyspark.ml.feature import QuantileDiscretizer"
   ]
  },
  {
   "cell_type": "code",
   "execution_count": 2,
   "metadata": {},
   "outputs": [],
   "source": [
    "spark = SparkSession.builder.appName('recommender_system').getOrCreate()"
   ]
  },
  {
   "cell_type": "code",
   "execution_count": 3,
   "metadata": {},
   "outputs": [
    {
     "name": "stdout",
     "output_type": "stream",
     "text": [
      "['gender_submission.csv', 'movie_ratings_df.csv', 'test.csv', 'train.csv']\n"
     ]
    }
   ],
   "source": [
    "entries = os.listdir('C:\\\\Users\\GUEN999\\Desktop\\Data engineer\\kaggle\\dataset')\n",
    "print(entries)"
   ]
  },
  {
   "cell_type": "code",
   "execution_count": 4,
   "metadata": {},
   "outputs": [
    {
     "data": {
      "text/html": [
       "<div>\n",
       "<style scoped>\n",
       "    .dataframe tbody tr th:only-of-type {\n",
       "        vertical-align: middle;\n",
       "    }\n",
       "\n",
       "    .dataframe tbody tr th {\n",
       "        vertical-align: top;\n",
       "    }\n",
       "\n",
       "    .dataframe thead th {\n",
       "        text-align: right;\n",
       "    }\n",
       "</style>\n",
       "<table border=\"1\" class=\"dataframe\">\n",
       "  <thead>\n",
       "    <tr style=\"text-align: right;\">\n",
       "      <th></th>\n",
       "      <th>userId</th>\n",
       "      <th>title</th>\n",
       "      <th>rating</th>\n",
       "    </tr>\n",
       "  </thead>\n",
       "  <tbody>\n",
       "    <tr>\n",
       "      <th>0</th>\n",
       "      <td>196</td>\n",
       "      <td>Kolya (1996)</td>\n",
       "      <td>3</td>\n",
       "    </tr>\n",
       "    <tr>\n",
       "      <th>1</th>\n",
       "      <td>63</td>\n",
       "      <td>Kolya (1996)</td>\n",
       "      <td>3</td>\n",
       "    </tr>\n",
       "    <tr>\n",
       "      <th>2</th>\n",
       "      <td>226</td>\n",
       "      <td>Kolya (1996)</td>\n",
       "      <td>5</td>\n",
       "    </tr>\n",
       "  </tbody>\n",
       "</table>\n",
       "</div>"
      ],
      "text/plain": [
       "   userId         title  rating\n",
       "0     196  Kolya (1996)       3\n",
       "1      63  Kolya (1996)       3\n",
       "2     226  Kolya (1996)       5"
      ]
     },
     "execution_count": 4,
     "metadata": {},
     "output_type": "execute_result"
    }
   ],
   "source": [
    "# load the dataset and create sprk dataframe\n",
    "df=spark.read.csv('C:\\\\Users\\GUEN999\\Desktop\\Data engineer\\kaggle\\dataset\\movie_ratings_df.csv',inferSchema=True,header=True)\n",
    "# Using limit(), or select() or show() to view the data. I often use limit()\n",
    "# Using toPandas() method to return Pyspark DataFrame as Pandas table\n",
    "df.limit(3).toPandas()"
   ]
  },
  {
   "cell_type": "code",
   "execution_count": 5,
   "metadata": {},
   "outputs": [
    {
     "name": "stdout",
     "output_type": "stream",
     "text": [
      "+------+------------+------+\n",
      "|userId|       title|rating|\n",
      "+------+------------+------+\n",
      "|   196|Kolya (1996)|     3|\n",
      "|    63|Kolya (1996)|     3|\n",
      "|   226|Kolya (1996)|     5|\n",
      "|   154|Kolya (1996)|     3|\n",
      "|   306|Kolya (1996)|     5|\n",
      "|   296|Kolya (1996)|     4|\n",
      "|    34|Kolya (1996)|     5|\n",
      "|   271|Kolya (1996)|     4|\n",
      "|   201|Kolya (1996)|     4|\n",
      "|   209|Kolya (1996)|     4|\n",
      "|    35|Kolya (1996)|     2|\n",
      "|   354|Kolya (1996)|     5|\n",
      "|   199|Kolya (1996)|     5|\n",
      "|   113|Kolya (1996)|     2|\n",
      "|     1|Kolya (1996)|     5|\n",
      "|   173|Kolya (1996)|     5|\n",
      "|   360|Kolya (1996)|     4|\n",
      "|   234|Kolya (1996)|     4|\n",
      "|    14|Kolya (1996)|     4|\n",
      "|   309|Kolya (1996)|     4|\n",
      "+------+------------+------+\n",
      "only showing top 20 rows\n",
      "\n"
     ]
    }
   ],
   "source": [
    "df.show()"
   ]
  },
  {
   "cell_type": "code",
   "execution_count": 6,
   "metadata": {},
   "outputs": [
    {
     "name": "stdout",
     "output_type": "stream",
     "text": [
      "root\n",
      " |-- userId: integer (nullable = true)\n",
      " |-- title: string (nullable = true)\n",
      " |-- rating: integer (nullable = true)\n",
      "\n"
     ]
    }
   ],
   "source": [
    "df.printSchema()"
   ]
  },
  {
   "cell_type": "code",
   "execution_count": 7,
   "metadata": {},
   "outputs": [
    {
     "data": {
      "text/html": [
       "<div>\n",
       "<style scoped>\n",
       "    .dataframe tbody tr th:only-of-type {\n",
       "        vertical-align: middle;\n",
       "    }\n",
       "\n",
       "    .dataframe tbody tr th {\n",
       "        vertical-align: top;\n",
       "    }\n",
       "\n",
       "    .dataframe thead th {\n",
       "        text-align: right;\n",
       "    }\n",
       "</style>\n",
       "<table border=\"1\" class=\"dataframe\">\n",
       "  <thead>\n",
       "    <tr style=\"text-align: right;\">\n",
       "      <th></th>\n",
       "      <th>userId</th>\n",
       "      <th>title</th>\n",
       "      <th>rating</th>\n",
       "      <th>title_new</th>\n",
       "    </tr>\n",
       "  </thead>\n",
       "  <tbody>\n",
       "    <tr>\n",
       "      <th>0</th>\n",
       "      <td>196</td>\n",
       "      <td>Kolya (1996)</td>\n",
       "      <td>3</td>\n",
       "      <td>287.0</td>\n",
       "    </tr>\n",
       "    <tr>\n",
       "      <th>1</th>\n",
       "      <td>63</td>\n",
       "      <td>Kolya (1996)</td>\n",
       "      <td>3</td>\n",
       "      <td>287.0</td>\n",
       "    </tr>\n",
       "    <tr>\n",
       "      <th>2</th>\n",
       "      <td>226</td>\n",
       "      <td>Kolya (1996)</td>\n",
       "      <td>5</td>\n",
       "      <td>287.0</td>\n",
       "    </tr>\n",
       "    <tr>\n",
       "      <th>3</th>\n",
       "      <td>154</td>\n",
       "      <td>Kolya (1996)</td>\n",
       "      <td>3</td>\n",
       "      <td>287.0</td>\n",
       "    </tr>\n",
       "    <tr>\n",
       "      <th>4</th>\n",
       "      <td>306</td>\n",
       "      <td>Kolya (1996)</td>\n",
       "      <td>5</td>\n",
       "      <td>287.0</td>\n",
       "    </tr>\n",
       "  </tbody>\n",
       "</table>\n",
       "</div>"
      ],
      "text/plain": [
       "   userId         title  rating  title_new\n",
       "0     196  Kolya (1996)       3      287.0\n",
       "1      63  Kolya (1996)       3      287.0\n",
       "2     226  Kolya (1996)       5      287.0\n",
       "3     154  Kolya (1996)       3      287.0\n",
       "4     306  Kolya (1996)       5      287.0"
      ]
     },
     "execution_count": 7,
     "metadata": {},
     "output_type": "execute_result"
    }
   ],
   "source": [
    "from pyspark.ml.feature import StringIndexer, IndexToString\n",
    "stringIndexer = StringIndexer(inputCol='title', outputCol='title_new')\n",
    "# Applying stringindexer object on dataframe movie title column\n",
    "model = stringIndexer.fit(df)\n",
    "#creating new dataframe with transformed values\n",
    "indexed = model.transform(df)\n",
    "#validate the numerical title values\n",
    "indexed.limit(5).toPandas()"
   ]
  },
  {
   "cell_type": "code",
   "execution_count": 8,
   "metadata": {},
   "outputs": [
    {
     "data": {
      "text/html": [
       "<div>\n",
       "<style scoped>\n",
       "    .dataframe tbody tr th:only-of-type {\n",
       "        vertical-align: middle;\n",
       "    }\n",
       "\n",
       "    .dataframe tbody tr th {\n",
       "        vertical-align: top;\n",
       "    }\n",
       "\n",
       "    .dataframe thead th {\n",
       "        text-align: right;\n",
       "    }\n",
       "</style>\n",
       "<table border=\"1\" class=\"dataframe\">\n",
       "  <thead>\n",
       "    <tr style=\"text-align: right;\">\n",
       "      <th></th>\n",
       "      <th>userId</th>\n",
       "      <th>title</th>\n",
       "      <th>rating</th>\n",
       "      <th>title_new</th>\n",
       "      <th>prediction</th>\n",
       "    </tr>\n",
       "  </thead>\n",
       "  <tbody>\n",
       "    <tr>\n",
       "      <th>0</th>\n",
       "      <td>148</td>\n",
       "      <td>2001: A Space Odyssey (1968)</td>\n",
       "      <td>5</td>\n",
       "      <td>59.0</td>\n",
       "      <td>4.062721</td>\n",
       "    </tr>\n",
       "    <tr>\n",
       "      <th>1</th>\n",
       "      <td>148</td>\n",
       "      <td>Back to the Future (1985)</td>\n",
       "      <td>3</td>\n",
       "      <td>20.0</td>\n",
       "      <td>4.062721</td>\n",
       "    </tr>\n",
       "    <tr>\n",
       "      <th>2</th>\n",
       "      <td>148</td>\n",
       "      <td>Brazil (1985)</td>\n",
       "      <td>4</td>\n",
       "      <td>109.0</td>\n",
       "      <td>4.062721</td>\n",
       "    </tr>\n",
       "    <tr>\n",
       "      <th>3</th>\n",
       "      <td>148</td>\n",
       "      <td>Cinderella (1950)</td>\n",
       "      <td>3</td>\n",
       "      <td>243.0</td>\n",
       "      <td>4.062721</td>\n",
       "    </tr>\n",
       "    <tr>\n",
       "      <th>4</th>\n",
       "      <td>148</td>\n",
       "      <td>Cold Comfort Farm (1995)</td>\n",
       "      <td>5</td>\n",
       "      <td>262.0</td>\n",
       "      <td>4.062721</td>\n",
       "    </tr>\n",
       "  </tbody>\n",
       "</table>\n",
       "</div>"
      ],
      "text/plain": [
       "   userId                         title  rating  title_new  prediction\n",
       "0     148  2001: A Space Odyssey (1968)       5       59.0    4.062721\n",
       "1     148     Back to the Future (1985)       3       20.0    4.062721\n",
       "2     148                 Brazil (1985)       4      109.0    4.062721\n",
       "3     148             Cinderella (1950)       3      243.0    4.062721\n",
       "4     148      Cold Comfort Farm (1995)       5      262.0    4.062721"
      ]
     },
     "execution_count": 8,
     "metadata": {},
     "output_type": "execute_result"
    }
   ],
   "source": [
    "train, test = indexed.randomSplit([0.75, 0.25])\n",
    "from pyspark.ml.recommendation import ALS\n",
    "\n",
    "rec = ALS( maxIter=10\n",
    "          ,regParam=0.01\n",
    "          ,userCol='userId'\n",
    "          ,itemCol='userId'\n",
    "          ,ratingCol='rating'\n",
    "          ,nonnegative=True\n",
    "          ,coldStartStrategy=\"drop\")\n",
    "\n",
    "rec_model=rec.fit(train)\n",
    "\n",
    "predicted_ratings=rec_model.transform(test)\n",
    "predicted_ratings.limit(5).toPandas()"
   ]
  },
  {
   "cell_type": "code",
   "execution_count": 9,
   "metadata": {},
   "outputs": [
    {
     "name": "stdout",
     "output_type": "stream",
     "text": [
      "1.0469546136238974\n"
     ]
    }
   ],
   "source": [
    "# Importing Regression Evaluator to measure RMSE\n",
    "from pyspark.ml.evaluation import RegressionEvaluator\n",
    "# create Regressor evaluator object for measuring accuracy\n",
    "evaluator=RegressionEvaluator(metricName='rmse',predictionCol='prediction',labelCol='rating')\n",
    "# apply the RE on predictions dataframe to calculate RMSE\n",
    "rmse=evaluator.evaluate(predicted_ratings)\n",
    "# print RMSE error\n",
    "print(rmse)"
   ]
  },
  {
   "cell_type": "code",
   "execution_count": 10,
   "metadata": {},
   "outputs": [
    {
     "name": "stdout",
     "output_type": "stream",
     "text": [
      "+---------+\n",
      "|title_new|\n",
      "+---------+\n",
      "|    305.0|\n",
      "|    596.0|\n",
      "|    299.0|\n",
      "|    769.0|\n",
      "|    692.0|\n",
      "|    934.0|\n",
      "|   1051.0|\n",
      "|    496.0|\n",
      "|    558.0|\n",
      "|    170.0|\n",
      "|    184.0|\n",
      "|    576.0|\n",
      "|    147.0|\n",
      "|    810.0|\n",
      "|    720.0|\n",
      "|    782.0|\n",
      "|   1369.0|\n",
      "|   1587.0|\n",
      "|    160.0|\n",
      "|    608.0|\n",
      "+---------+\n",
      "only showing top 20 rows\n",
      "\n"
     ]
    }
   ],
   "source": [
    "# First we need to create dataset of all distinct movies \n",
    "unique_movies=indexed.select('title_new').distinct()\n",
    "unique_movies.show()"
   ]
  }
 ],
 "metadata": {
  "kernelspec": {
   "display_name": "base",
   "language": "python",
   "name": "python3"
  },
  "language_info": {
   "codemirror_mode": {
    "name": "ipython",
    "version": 3
   },
   "file_extension": ".py",
   "mimetype": "text/x-python",
   "name": "python",
   "nbconvert_exporter": "python",
   "pygments_lexer": "ipython3",
   "version": "3.11.5"
  }
 },
 "nbformat": 4,
 "nbformat_minor": 2
}
